{
 "cells": [
  {
   "cell_type": "code",
   "execution_count": 1,
   "id": "c40860d8",
   "metadata": {},
   "outputs": [],
   "source": [
    "# import modules\n",
    "import os\n",
    "import shutil\n",
    "from osgeo import gdal\n",
    "import pandas as pd \n",
    "pd.set_option('display.max_rows', 10)\n",
    "import geopandas as gpd\n",
    "from tqdm.notebook import tqdm"
   ]
  },
  {
   "cell_type": "code",
   "execution_count": 2,
   "id": "0788164a",
   "metadata": {},
   "outputs": [],
   "source": [
    "# track time\n",
    "import time\n",
    "start = time.time()\n",
    "last = time.time()"
   ]
  },
  {
   "cell_type": "markdown",
   "id": "9f1d1590",
   "metadata": {},
   "source": [
    "## Generate area-of-interest for FUAs"
   ]
  },
  {
   "cell_type": "code",
   "execution_count": 3,
   "id": "bc735188",
   "metadata": {},
   "outputs": [
    {
     "name": "stdout",
     "output_type": "stream",
     "text": [
      "    Name      long      lat                         geometry  \\\n",
      "0  Taupo  176.0704 -38.6843  POINT (1867076.976 5713780.848)   \n",
      "\n",
      "                                                 aoi  \n",
      "0  POLYGON ((1937076.976 5713780.848, 1936739.907...  \n",
      "\n",
      "buffering FUAs complete\n",
      "0.030347108840942383 seconds\n",
      "\n"
     ]
    }
   ],
   "source": [
    "# import csv containing lat/long for FUAs and create points gpd\n",
    "fua_df = pd.read_csv('inputs/FUA-test.csv')\n",
    "fua_gdf = gpd.GeoDataFrame(fua_df, geometry=gpd.points_from_xy(fua_df.long, fua_df.lat), crs='EPSG:4326').to_crs(2193)\n",
    "\n",
    "# create 70km buffer to get aoi\n",
    "fua_gdf['aoi'] = fua_gdf.buffer(70000)\n",
    "\n",
    "print(fua_gdf)\n",
    "print() \n",
    "print('buffering FUAs complete')\n",
    "print(time.time() - last, 'seconds')\n",
    "last = time.time()\n",
    "print() "
   ]
  },
  {
   "cell_type": "markdown",
   "id": "c8f51e5d",
   "metadata": {},
   "source": [
    "##Remove undevelopable land parcels"
   ]
  },
  {
   "cell_type": "code",
   "execution_count": 4,
   "id": "998fe93a",
   "metadata": {},
   "outputs": [
    {
     "name": "stdout",
     "output_type": "stream",
     "text": [
      "                               Name_2018                         Name_2012  \\\n",
      "0           Herbaceous Saline Vegetation      Herbaceous Saline Vegetation   \n",
      "1           Herbaceous Saline Vegetation      Herbaceous Saline Vegetation   \n",
      "3           Herbaceous Saline Vegetation      Herbaceous Saline Vegetation   \n",
      "5           Herbaceous Saline Vegetation      Herbaceous Saline Vegetation   \n",
      "6           Herbaceous Saline Vegetation      Herbaceous Saline Vegetation   \n",
      "...                                  ...                               ...   \n",
      "511099           Low Producing Grassland           Low Producing Grassland   \n",
      "511100                 Indigenous Forest                 Indigenous Forest   \n",
      "511101                     Exotic Forest                     Exotic Forest   \n",
      "511102  Herbaceous Freshwater Vegetation  Herbaceous Freshwater Vegetation   \n",
      "511103   High Producing Exotic Grassland   High Producing Exotic Grassland   \n",
      "\n",
      "                               Name_2008                         Name_2001  \\\n",
      "0           Herbaceous Saline Vegetation      Herbaceous Saline Vegetation   \n",
      "1           Herbaceous Saline Vegetation      Herbaceous Saline Vegetation   \n",
      "3           Herbaceous Saline Vegetation      Herbaceous Saline Vegetation   \n",
      "5           Herbaceous Saline Vegetation      Herbaceous Saline Vegetation   \n",
      "6           Herbaceous Saline Vegetation      Herbaceous Saline Vegetation   \n",
      "...                                  ...                               ...   \n",
      "511099           Low Producing Grassland              Manuka and/or Kanuka   \n",
      "511100                 Indigenous Forest                 Indigenous Forest   \n",
      "511101                     Exotic Forest                     Exotic Forest   \n",
      "511102  Herbaceous Freshwater Vegetation  Herbaceous Freshwater Vegetation   \n",
      "511103                     Exotic Forest                     Exotic Forest   \n",
      "\n",
      "                               Name_1996  Class_2018  Class_2012  Class_2008  \\\n",
      "0           Herbaceous Saline Vegetation          46          46          46   \n",
      "1           Herbaceous Saline Vegetation          46          46          46   \n",
      "3           Herbaceous Saline Vegetation          46          46          46   \n",
      "5           Herbaceous Saline Vegetation          46          46          46   \n",
      "6           Herbaceous Saline Vegetation          46          46          46   \n",
      "...                                  ...         ...         ...         ...   \n",
      "511099           Low Producing Grassland          41          41          41   \n",
      "511100                 Indigenous Forest          69          69          69   \n",
      "511101                     Exotic Forest          71          71          71   \n",
      "511102  Herbaceous Freshwater Vegetation          45          45          45   \n",
      "511103                     Exotic Forest          40          40          71   \n",
      "\n",
      "        Class_2001  Class_1996  ... Wetland_96 Onshore_18 Onshore_12  \\\n",
      "0               46          46  ...        yes         no         no   \n",
      "1               46          46  ...        yes         no         no   \n",
      "3               46          46  ...        yes         no         no   \n",
      "5               46          46  ...        yes         no         no   \n",
      "6               46          46  ...        yes         no         no   \n",
      "...            ...         ...  ...        ...        ...        ...   \n",
      "511099          52          41  ...         no        yes        yes   \n",
      "511100          69          69  ...         no        yes        yes   \n",
      "511101          71          71  ...         no        yes        yes   \n",
      "511102          45          45  ...        yes        yes        yes   \n",
      "511103          71          71  ...         no        yes        yes   \n",
      "\n",
      "       Onshore_08 Onshore_01 Onshore_96         EditAuthor    EditDate  \\\n",
      "0              no         no         no          Terralink  2004-06-30   \n",
      "1              no         no         no   Regional Council  2019-12-01   \n",
      "3              no         no         no          Terralink  2004-06-30   \n",
      "5              no         no         no  Landcare Research  2019-12-01   \n",
      "6              no         no         no          Terralink  2004-06-30   \n",
      "...           ...        ...        ...                ...         ...   \n",
      "511099        yes        yes        yes  Landcare Research  2019-12-01   \n",
      "511100        yes        yes        yes  Landcare Research  2019-12-01   \n",
      "511101        yes        yes        yes  Landcare Research  2011-06-30   \n",
      "511102        yes        yes        yes   Regional Council  2014-06-30   \n",
      "511103        yes        yes        yes  Landcare Research  2014-06-30   \n",
      "\n",
      "              LCDB_UID                                           geometry  \n",
      "0       lcdb2000096676  POLYGON ((1613722.435 5425797.372, 1613723.153...  \n",
      "1       lcdb1000513359  POLYGON ((1816770.219 5947804.627, 1816778.549...  \n",
      "3       lcdb1000065930  POLYGON ((1705330.918 6088979.740, 1705316.037...  \n",
      "5       lcdb1000065524  POLYGON ((1870401.596 5826343.340, 1870405.955...  \n",
      "6       lcdb1000065967  POLYGON ((1618120.418 6096817.844, 1618113.580...  \n",
      "...                ...                                                ...  \n",
      "511099  lcdb1000505810  POLYGON ((1785112.194 5684560.595, 1785108.792...  \n",
      "511100  lcdb2000193885  POLYGON ((1607510.750 5432591.699, 1607542.075...  \n",
      "511101  lcdb2000219027  POLYGON ((1603592.310 5269947.382, 1603608.224...  \n",
      "511102  lcdb1000417326  POLYGON ((1822629.596 5477414.337, 1822617.531...  \n",
      "511103  lcdb1000145507  POLYGON ((1704402.741 5624819.729, 1704400.069...  \n",
      "\n",
      "[492519 rows x 24 columns]\n",
      "\n",
      "loading water_bodies complete\n",
      "39.45596981048584 seconds\n",
      "\n"
     ]
    }
   ],
   "source": [
    "# import LCDB and return water bodies \n",
    "water_bodies = gpd.read_file('inputs/lcdb-v50-land-cover-database-version-50-mainland-new-zealand.shp')\n",
    "\n",
    "water_bodies = water_bodies[water_bodies.Name_2018.isin(['Not land', 'Lake or Pond', 'River', 'Estuarine Open Water', 'Mangrove']) == False]\n",
    "\n",
    "print(water_bodies)\n",
    "print()\n",
    "print('loading water_bodies complete')\n",
    "print(time.time() - last, 'seconds')\n",
    "last = time.time()\n",
    "print()"
   ]
  },
  {
   "cell_type": "markdown",
   "id": "9baaca85",
   "metadata": {},
   "source": [
    "##Calculate slope for developable land"
   ]
  },
  {
   "cell_type": "code",
   "execution_count": 5,
   "id": "3c4f8705",
   "metadata": {},
   "outputs": [
    {
     "data": {
      "application/vnd.jupyter.widget-view+json": {
       "model_id": "2d2c0997676d42748f3a9f44cb18a747",
       "version_major": 2,
       "version_minor": 0
      },
      "text/plain": [
       "calc slope for FUAs: 0it [00:00, ?it/s]"
      ]
     },
     "metadata": {},
     "output_type": "display_data"
    },
    {
     "name": "stdout",
     "output_type": "stream",
     "text": [
      "Name                                                    Taupo\n",
      "long                                                 176.0704\n",
      "lat                                                  -38.6843\n",
      "geometry         POINT (1867076.9756865124 5713780.847506042)\n",
      "aoi         POLYGON ((1937076.9756865124 5713780.847506042...\n",
      "Name: 0, dtype: object\n"
     ]
    },
    {
     "name": "stderr",
     "output_type": "stream",
     "text": [
      "/Users/ben/miniconda3/envs/calc-developable-land/lib/python3.10/site-packages/geopandas/io/file.py:362: FutureWarning: pandas.Int64Index is deprecated and will be removed from pandas in a future version. Use pandas.Index with the appropriate dtype instead.\n",
      "  pd.Int64Index,\n",
      "Warning 1: Caught exception in KEADataset constructor Could not retrieve image band meta data.\n"
     ]
    },
    {
     "name": "stdout",
     "output_type": "stream",
     "text": [
      "masking dem complete\n",
      "90.65183115005493 seconds\n",
      "\n",
      "calculating slope complete\n",
      "8.951367855072021 seconds\n",
      "\n",
      "Total processing time\n",
      "139.09528017044067 seconds\n",
      "\n"
     ]
    }
   ],
   "source": [
    "# filepath to dem data\n",
    "dem = 'inputs/nz-dem-15m-2193.kea'\n",
    "\n",
    "# create output dir for slope images and tmp dir for other files\n",
    "slope_outputs = 'outputs/slope_images/'\n",
    "tmp_dir = 'tmp/'\n",
    "for folder in slope_outputs, tmp_dir:\n",
    "    if not os.path.exists(folder):\n",
    "            os.mkdir(folder)\n",
    "\n",
    "# Clip water_bodies by each aoi\n",
    "for index, row in tqdm(fua_gdf.iterrows(), desc='calc slope for FUAs'):\n",
    "    # create tmp_dir for unrequired files and namePath for slope outputs\n",
    "    tmpPath = tmp_dir + row['Name'] + '/'\n",
    "    if not os.path.exists(tmpPath):\n",
    "        os.mkdir(tmpPath)\n",
    "    namePath = slope_outputs + row['Name']\n",
    "    \n",
    "    print(row['Name'])\n",
    "\n",
    "    aoi_path = tmpPath + 'aoi.shp'\n",
    "    developable_area = water_bodies.geometry.clip(row['aoi'])\n",
    "    developable_area.to_file(aoi_path)\n",
    "\n",
    "    developable_area_path = tmpPath + 'aoi.kea'\n",
    "\n",
    "    # mask dem to get potential developable pixels within FUA aoi with gdal warp\n",
    "    # output to memory\n",
    "    gdal.Warp(destNameOrDestDS=developable_area_path,\n",
    "    srcDSOrSrcDSTab=dem, format='kea', dstSRS= 'EPSG:2193', cutlineDSName=aoi_path, cutlineLayer='aoi', cropToCutline=True)\n",
    "\n",
    "    print('masking dem complete')\n",
    "    print(time.time() - last, 'seconds')\n",
    "    last = time.time()\n",
    "    print() \n",
    "\n",
    "    # Calculate slope using gdal DEMprocessing and warp to EPSG:2193\n",
    "    destPath = namePath + '-slope.kea'\n",
    "    #srcDS = developable_area_path\n",
    "\n",
    "    gdal.DEMProcessing(destName=destPath, srcDS=developable_area_path, processing='slope', format='kea', slopeFormat='degree')\n",
    "    \n",
    "    # Remove tmp folder\n",
    "    shutil.rmtree(tmpPath)\n",
    "    \n",
    "    print('calculating slope complete')\n",
    "    print(time.time() - last, 'seconds')\n",
    "    last = time.time()\n",
    "    print()\n",
    "    \n",
    "shutil.rmtree(tmp_dir)\n",
    "\n",
    "print('Total processing time')\n",
    "print(time.time() - start, 'seconds')\n",
    "last = time.time()\n",
    "print()"
   ]
  },
  {
   "cell_type": "code",
   "execution_count": null,
   "id": "7e2c9d92",
   "metadata": {},
   "outputs": [],
   "source": []
  }
 ],
 "metadata": {
  "kernelspec": {
   "display_name": "calc-developable-land",
   "language": "python",
   "name": "calc-developable-land"
  },
  "language_info": {
   "codemirror_mode": {
    "name": "ipython",
    "version": 3
   },
   "file_extension": ".py",
   "mimetype": "text/x-python",
   "name": "python",
   "nbconvert_exporter": "python",
   "pygments_lexer": "ipython3",
   "version": "3.10.4"
  }
 },
 "nbformat": 4,
 "nbformat_minor": 5
}
